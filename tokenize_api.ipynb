{
 "cells": [
  {
   "cell_type": "code",
   "execution_count": 1,
   "id": "8e50ab55",
   "metadata": {},
   "outputs": [],
   "source": [
    "import requests"
   ]
  },
  {
   "cell_type": "code",
   "execution_count": 2,
   "id": "dba6e6f5",
   "metadata": {},
   "outputs": [],
   "source": [
    "api_host = 'localhost'\n",
    "api_port = '65400'"
   ]
  },
  {
   "cell_type": "code",
   "execution_count": 3,
   "id": "442cc50c",
   "metadata": {},
   "outputs": [
    {
     "data": {
      "text/plain": [
       "'《유미의 세포들》은 이동건 작가가 2015년 4월 1일부터 네이버 웹툰에서 매주 토요일에 연재한 대한민국의 완결 웹툰이다. 2020년 11월 완결되었다. 드라마화가 확정되어 2021년 방영예정이다.'"
      ]
     },
     "execution_count": 3,
     "metadata": {},
     "output_type": "execute_result"
    }
   ],
   "source": [
    "text = '《유미의 세포들》은 이동건 작가가 2015년 4월 1일부터 네이버 웹툰에서 매주 토요일에 연재한 대한민국의 완결 웹툰이다. 2020년 11월 완결되었다. 드라마화가 확정되어 2021년 방영예정이다.'\n",
    "text"
   ]
  },
  {
   "cell_type": "markdown",
   "id": "a92513b2",
   "metadata": {},
   "source": [
    "### POST Request"
   ]
  },
  {
   "cell_type": "code",
   "execution_count": 4,
   "id": "65db5b5a",
   "metadata": {},
   "outputs": [
    {
     "data": {
      "text/plain": [
       "{'tokenized_text': '유미 세포 이동건 작가 네이버 웹툰 매주 요일 연재 대한 민국 완결 웹툰 완결 드라마 확정 방영 예정'}"
      ]
     },
     "execution_count": 4,
     "metadata": {},
     "output_type": "execute_result"
    }
   ],
   "source": [
    "r = requests.post('http://{api_host}:{api_port}/tokenize'.format(api_host=api_host, api_port=int(api_port)), data={'text': text})\n",
    "r.json()"
   ]
  },
  {
   "cell_type": "markdown",
   "id": "d965eef9",
   "metadata": {},
   "source": [
    "### GET Request"
   ]
  },
  {
   "cell_type": "code",
   "execution_count": 5,
   "id": "d96627b2",
   "metadata": {},
   "outputs": [
    {
     "data": {
      "text/plain": [
       "{'tokenized_text': '유미 세포 이동건 작가 네이버 웹툰 매주 요일 연재 대한 민국 완결 웹툰 완결 드라마 확정 방영 예정'}"
      ]
     },
     "execution_count": 5,
     "metadata": {},
     "output_type": "execute_result"
    }
   ],
   "source": [
    "requests.get('http://{api_host}:{api_port}/tokenize?text={text}'.format(api_host=api_host, api_port=int(api_port), text=text))\n",
    "r.json()"
   ]
  },
  {
   "cell_type": "code",
   "execution_count": null,
   "id": "2c937145",
   "metadata": {},
   "outputs": [],
   "source": []
  }
 ],
 "metadata": {
  "kernelspec": {
   "display_name": "Python 3",
   "language": "python",
   "name": "python3"
  },
  "language_info": {
   "codemirror_mode": {
    "name": "ipython",
    "version": 3
   },
   "file_extension": ".py",
   "mimetype": "text/x-python",
   "name": "python",
   "nbconvert_exporter": "python",
   "pygments_lexer": "ipython3",
   "version": "3.8.8"
  }
 },
 "nbformat": 4,
 "nbformat_minor": 5
}
